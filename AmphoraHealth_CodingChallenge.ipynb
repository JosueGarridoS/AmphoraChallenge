{
  "nbformat": 4,
  "nbformat_minor": 0,
  "metadata": {
    "colab": {
      "name": "AmphoraHealth_CodingChallenge.ipynb",
      "provenance": [],
      "authorship_tag": "ABX9TyO1BnPTQEpEDNxBB6yQahw1",
      "include_colab_link": true
    },
    "kernelspec": {
      "name": "python3",
      "display_name": "Python 3"
    },
    "language_info": {
      "name": "python"
    }
  },
  "cells": [
    {
      "cell_type": "markdown",
      "metadata": {
        "id": "view-in-github",
        "colab_type": "text"
      },
      "source": [
        "<a href=\"https://colab.research.google.com/github/JosueGarridoS/AmphoraChallenge/blob/main/AmphoraHealth_CodingChallenge.ipynb\" target=\"_parent\"><img src=\"https://colab.research.google.com/assets/colab-badge.svg\" alt=\"Open In Colab\"/></a>"
      ]
    },
    {
      "cell_type": "markdown",
      "metadata": {
        "id": "ggS0ueX7XRXV"
      },
      "source": [
        "## Cancer Statistics in North America\n",
        "\n",
        "### Student Internship Data Challenge 2021\n",
        "\n",
        "The overall objective of the 2021 Amphora Health Student Internship is to follow-up on the\n",
        "cancer statistics in the North American region. As the societies of the three countries are\n",
        "getting intertwined due to commerce, policy, and migration, our understanding of the basic\n",
        "cancer statistics (incidence, prevalence, mortality) is still limited. The goal of this internship\n",
        "is to explore the available cancer data and build tools to facilitate the work of policy makers\n",
        "and public health officials. Ultimately, the deliverable of this internship will be a research\n",
        "product in the form of a conference poster, or even a full research manuscript, to showcase\n",
        "the findings of this project.\n",
        "\n",
        "The data challenge is designed to identify the best candidate possible. This is an integral\n",
        "part of our recruitment process.\n"
      ]
    },
    {
      "cell_type": "markdown",
      "metadata": {
        "id": "suUlzXzOXLOW"
      },
      "source": [
        "## 1. Instructions\n",
        "\n",
        "**Data input**. You will be provided with CSV files containing summary statistics about all\n",
        "types of cancer in each country in North America (Mexico, USA, Canada). For each country,\n",
        "you will find two files referring to 1) incidence, and 2) mortality which represent the\n",
        "reported information to the World Health Organization (WHO)’s International Agency for\n",
        "Research on Cancer (IARC) by each country in 2020. For additional information and detailed\n",
        "definitions please refer to the IARC website (https://gco.iarc.fr/today/about).\n",
        "\n",
        "**Programming language**. You are required to generate this challenge in a Github repository,\n",
        "and to generate a script in the programming language of your preference. We recommend\n",
        "the use of R or Python, but your preferred language should be fine as well. The pipeline\n",
        "should be designed in such a way that we can feed in data from any other three countries\n",
        "and get new results automatically."
      ]
    },
    {
      "cell_type": "markdown",
      "metadata": {
        "id": "561lo6f4luOi"
      },
      "source": [
        "# **Task 1**. \n",
        "\n",
        "Your first task is to merge all the files into a single table to construct a summarized\n",
        "view of this information across North America.\n",
        "\n",
        "**Deliverable 1**. The table should be constructed in the following way:\n",
        "\n",
        "● The rows of the table should be the categories of cancer. In each provided file, the first column shows the cancer diagnosis using the International Classification of Diseases version 10 (ICD-10). You are required to group these codes into top-level categories of cancer, as shown in the subchapters in the following link https://www.icd10data.com/ICD10CM/Codes/C00-D49 . For example the codes for liver cancer (C22) and pancreatic cancer (C25) are in the range C15-C26, so these two rows should be aggregated together.\n",
        "\n",
        "● The columns of the table are the aggregated information for North America,\n",
        "followed by the individual information from each country. Two columns are required for each of these, showing the incidence and mortality total numbers.\n",
        "\n",
        "● The deliverable table should be generated automatically by your program or script."
      ]
    },
    {
      "cell_type": "code",
      "metadata": {
        "id": "tUCs9jUsvjSy"
      },
      "source": [
        "import pandas as pd\n",
        "import numpy as np\n",
        "import zipfile\n",
        "import seaborn as sns\n",
        "from matplotlib import pyplot as plt"
      ],
      "execution_count": 1,
      "outputs": []
    },
    {
      "cell_type": "code",
      "metadata": {
        "id": "96eVi7vNLHnf"
      },
      "source": [
        "def df_of_region(path_incidence, path_mortality,country):\n",
        "  \"\"\"Returns a pandas DataFrame with the information of incidence and mortality\n",
        "     of a country and the sum of the region.\n",
        "     The information is ordered according to the Classification of Diseases\n",
        "     version 10 (ICD-10)\"\"\"\n",
        "  \n",
        "  #Declaration of needed variables, DataFrames from csv files and lists to \n",
        "  #iterate when needed\n",
        "  df_incidence = pd.read_csv(path_incidence)\n",
        "  df_mortality  = pd.read_csv(path_mortality)\n",
        "  ICD_groups = [\"C00\", \"C15\", \"C30\", \"C40\", \"C43\", \"C45\", \"C50\", \"C51\", \"C60\", \n",
        "                \"C64\", \"C69\", \"C73\", \"C76\", \"C81\", \"C97\"]\n",
        "  ICD_index = [\"-C14\", \"-C26\", \"-C39\", \"-C41\", \"-C44\", \"-C49\", \"-C50\", \"-C58\",\n",
        "               \"-C63\", \"-C68\", \"-C72\", \"-C75\", \"-C80\", \"-C96\", \"\"]\n",
        "  country_incidence = []\n",
        "  country_mortality = []\n",
        "  NA_incidence = []\n",
        "  NA_mortality = []\n",
        "  index_list = []\n",
        "\n",
        "  #This loop iterates through every element of the DataFrame and organizes them \n",
        "  #according to the (ICD-10)\n",
        "  for i in range(1, 15):\n",
        "    temp_list_in = [x for x in df_incidence.sort_index().index if x < ICD_groups[i] \n",
        "                    and x > ICD_groups[i-1] and x != \"C00-97\"]\n",
        "    temp_list_mo = [x for x in df_mortality.sort_index().index if x < ICD_groups[i] \n",
        "                    and x > ICD_groups[i-1] and x != \"C00-97\"]\n",
        "    country_incidence.append(df_incidence.Cancer[temp_list_in].sum())\n",
        "    country_mortality.append(df_mortality.Cancer[temp_list_mo].sum())\n",
        "    NA_incidence.append(df_incidence.Cancer[temp_list_in].sum())\n",
        "    NA_mortality.append(df_mortality.Cancer[temp_list_mo].sum())\n",
        "\n",
        "    \n",
        "  #Adds the mortality and incidence numbers to fit the described cathegories and \n",
        "  #creates the expected DataFrame\n",
        "  for (num_one, num_two) in zip(ICD_groups, ICD_index):\n",
        "    index_list.append(num_one+num_two)\n",
        "  df_result = pd.DataFrame(list(zip(NA_incidence,NA_mortality, country_incidence, \n",
        "                                    country_mortality)), index = index_list[:-1])\n",
        "  col_ix = pd.MultiIndex.from_product([[\"North America\", country], \n",
        "                                       [\"Incidence\", \"Mortality\"]])\n",
        "  df_result.columns = col_ix\n",
        "\n",
        "  return df_result"
      ],
      "execution_count": 2,
      "outputs": []
    },
    {
      "cell_type": "code",
      "metadata": {
        "id": "PzSH-xgPqD1O"
      },
      "source": [
        "def add_to_main_df(path_incidence, path_mortality, country, main_df):\n",
        "  \"\"\"Adds a country to an existing DataFrame with the expected characteristics\n",
        "     and adds quantities to the region column\n",
        "  \"\"\"\n",
        "\n",
        "  #Creates a new DataFrame with the expected values (incidence and mortality),\n",
        "  #and concatenates it ot the existing\n",
        "  temp_df = df_of_region(path_incidence, path_mortality,country)\n",
        "  df_result = pd.concat([main_df, temp_df], axis=1)\n",
        "  df_result.groupby(level=1, axis=1).sum()\n",
        "  \n",
        "  #Adds the values of the new country to the column for the region\n",
        "  temp_sum = main_df[\"North America\"] + temp_df[\"North America\"]\n",
        "  temp_sum.columns = pd.MultiIndex.from_product([[\"North America\"],\n",
        "                                                 [\"Incidence\", \"Mortality\"]])\n",
        "  df_result = df_result.drop(axis=1, columns = \"North America\", level = 0)\n",
        "  df_result = pd.concat([temp_sum, df_result], axis=1)\n",
        "  \n",
        "  return df_result"
      ],
      "execution_count": 3,
      "outputs": []
    },
    {
      "cell_type": "code",
      "metadata": {
        "id": "7MZAtYApLYJ-"
      },
      "source": [
        "def df_from_zip(zip_file_path, country_one, country_two, country_three):\n",
        "  \"\"\"Takes zip file with the csv files with information of the countries of a\n",
        "  region and retruns a DataFrame with the required characteristics\n",
        "  \"\"\"\n",
        "  #Declaration of the variables that will be used for the creation of the DataFrame\n",
        "  zfile = zipfile.ZipFile(zip_file_path,\"r\")\n",
        "  list_files = []\n",
        "  for i in range(len(zfile.namelist())):\n",
        "    list_files.append(zfile.extract(zfile.namelist()[i]))\n",
        "\n",
        "  list_countries = []\n",
        "  list_countries.append([x for x in list_files if country_one.lower() in\n",
        "                         x.title().lower()])\n",
        "  list_countries.append([x for x in list_files if country_two.lower() in\n",
        "                         x.title().lower()])\n",
        "  list_countries.append([x for x in list_files if country_three.lower() in\n",
        "                         x.title().lower()])\n",
        "\n",
        "  #Creates the DataFrame using the first country (df_of_region function) and\n",
        "  #then adds the rest to that existing DataFrame (add_to_main function)\n",
        "  result_df = []\n",
        "  if \"newcases\" in list_countries[0][0].title().lower():\n",
        "      result_df = df_of_region(list_countries[0][0], list_countries[0][1], country_one)\n",
        "  else:\n",
        "      result_df = df_of_region(list_countries[0][1], list_countries[0][0], country_one)\n",
        "\n",
        "  if \"newcases\" in list_countries[1][0].title().lower():\n",
        "      result_df = add_to_main_df(list_countries[1][0], list_countries[1][1], country_two, result_df)\n",
        "  else:\n",
        "      result_df = add_to_main_df(list_countries[1][1], list_countries[1][0], country_two, result_df)\n",
        "\n",
        "  if \"newcases\" in list_countries[2][0].title().lower():\n",
        "      result_df = add_to_main_df(list_countries[2][0], list_countries[2][1], country_three, result_df)\n",
        "  else:\n",
        "      result_df = add_to_main_df(list_countries[2][1], list_countries[2][0], country_three, result_df)\n",
        "\n",
        "  return result_df"
      ],
      "execution_count": 4,
      "outputs": []
    },
    {
      "cell_type": "code",
      "metadata": {
        "id": "Hk-cGyVCkfDG"
      },
      "source": [
        "new_df = df_of_region('/content/canada-newcases.csv', '/content/canada-mortality.csv', \"Canada\")\n",
        "new_df_two = add_to_main_df('/content/mexico-newcases.csv', '/content/mexico-mortality.csv', \"Mexico\", new_df)\n",
        "df = add_to_main_df('/content/usa-newcases.csv', '/content/usa-mortality.csv', \"USA\", new_df_two)"
      ],
      "execution_count": 5,
      "outputs": []
    },
    {
      "cell_type": "code",
      "metadata": {
        "colab": {
          "base_uri": "https://localhost:8080/",
          "height": 514
        },
        "id": "3Hn7kL9vHN6i",
        "outputId": "2c340677-dd0b-494d-bff1-3505b829f28f"
      },
      "source": [
        "df_res = df_from_zip(\"/content/ChallengeCancer.zip\", \"Canada\", \"Mexico\", \"USA\")\n",
        "df_res"
      ],
      "execution_count": 6,
      "outputs": [
        {
          "output_type": "execute_result",
          "data": {
            "text/html": [
              "<div>\n",
              "<style scoped>\n",
              "    .dataframe tbody tr th:only-of-type {\n",
              "        vertical-align: middle;\n",
              "    }\n",
              "\n",
              "    .dataframe tbody tr th {\n",
              "        vertical-align: top;\n",
              "    }\n",
              "\n",
              "    .dataframe thead tr th {\n",
              "        text-align: left;\n",
              "    }\n",
              "</style>\n",
              "<table border=\"1\" class=\"dataframe\">\n",
              "  <thead>\n",
              "    <tr>\n",
              "      <th></th>\n",
              "      <th colspan=\"2\" halign=\"left\">North America</th>\n",
              "      <th colspan=\"2\" halign=\"left\">Canada</th>\n",
              "      <th colspan=\"2\" halign=\"left\">Mexico</th>\n",
              "      <th colspan=\"2\" halign=\"left\">USA</th>\n",
              "    </tr>\n",
              "    <tr>\n",
              "      <th></th>\n",
              "      <th>Incidence</th>\n",
              "      <th>Mortality</th>\n",
              "      <th>Incidence</th>\n",
              "      <th>Mortality</th>\n",
              "      <th>Incidence</th>\n",
              "      <th>Mortality</th>\n",
              "      <th>Incidence</th>\n",
              "      <th>Mortality</th>\n",
              "    </tr>\n",
              "  </thead>\n",
              "  <tbody>\n",
              "    <tr>\n",
              "      <th>C00-C14</th>\n",
              "      <td>54401</td>\n",
              "      <td>12619</td>\n",
              "      <td>5338</td>\n",
              "      <td>1572</td>\n",
              "      <td>2753</td>\n",
              "      <td>1142</td>\n",
              "      <td>46310</td>\n",
              "      <td>9905</td>\n",
              "    </tr>\n",
              "    <tr>\n",
              "      <th>C15-C26</th>\n",
              "      <td>362254</td>\n",
              "      <td>195184</td>\n",
              "      <td>39868</td>\n",
              "      <td>21089</td>\n",
              "      <td>37511</td>\n",
              "      <td>27177</td>\n",
              "      <td>284875</td>\n",
              "      <td>146918</td>\n",
              "    </tr>\n",
              "    <tr>\n",
              "      <th>C30-C39</th>\n",
              "      <td>275607</td>\n",
              "      <td>171556</td>\n",
              "      <td>26561</td>\n",
              "      <td>21740</td>\n",
              "      <td>8617</td>\n",
              "      <td>7758</td>\n",
              "      <td>240429</td>\n",
              "      <td>142058</td>\n",
              "    </tr>\n",
              "    <tr>\n",
              "      <th>C40-C41</th>\n",
              "      <td>0</td>\n",
              "      <td>0</td>\n",
              "      <td>0</td>\n",
              "      <td>0</td>\n",
              "      <td>0</td>\n",
              "      <td>0</td>\n",
              "      <td>0</td>\n",
              "      <td>0</td>\n",
              "    </tr>\n",
              "    <tr>\n",
              "      <th>C43-C44</th>\n",
              "      <td>0</td>\n",
              "      <td>0</td>\n",
              "      <td>0</td>\n",
              "      <td>0</td>\n",
              "      <td>0</td>\n",
              "      <td>0</td>\n",
              "      <td>0</td>\n",
              "      <td>0</td>\n",
              "    </tr>\n",
              "    <tr>\n",
              "      <th>C45-C49</th>\n",
              "      <td>1739</td>\n",
              "      <td>235</td>\n",
              "      <td>58</td>\n",
              "      <td>7</td>\n",
              "      <td>603</td>\n",
              "      <td>136</td>\n",
              "      <td>1078</td>\n",
              "      <td>92</td>\n",
              "    </tr>\n",
              "    <tr>\n",
              "      <th>C50-C50</th>\n",
              "      <td>0</td>\n",
              "      <td>0</td>\n",
              "      <td>0</td>\n",
              "      <td>0</td>\n",
              "      <td>0</td>\n",
              "      <td>0</td>\n",
              "      <td>0</td>\n",
              "      <td>0</td>\n",
              "    </tr>\n",
              "    <tr>\n",
              "      <th>C51-C58</th>\n",
              "      <td>131737</td>\n",
              "      <td>44651</td>\n",
              "      <td>11045</td>\n",
              "      <td>4103</td>\n",
              "      <td>20143</td>\n",
              "      <td>8609</td>\n",
              "      <td>100549</td>\n",
              "      <td>31939</td>\n",
              "    </tr>\n",
              "    <tr>\n",
              "      <th>C60-C63</th>\n",
              "      <td>280178</td>\n",
              "      <td>45809</td>\n",
              "      <td>31180</td>\n",
              "      <td>4794</td>\n",
              "      <td>30079</td>\n",
              "      <td>8127</td>\n",
              "      <td>218919</td>\n",
              "      <td>32888</td>\n",
              "    </tr>\n",
              "    <tr>\n",
              "      <th>C64-C68</th>\n",
              "      <td>176262</td>\n",
              "      <td>42248</td>\n",
              "      <td>16729</td>\n",
              "      <td>5107</td>\n",
              "      <td>9347</td>\n",
              "      <td>4422</td>\n",
              "      <td>150186</td>\n",
              "      <td>32719</td>\n",
              "    </tr>\n",
              "    <tr>\n",
              "      <th>C69-C72</th>\n",
              "      <td>30711</td>\n",
              "      <td>23257</td>\n",
              "      <td>2984</td>\n",
              "      <td>2553</td>\n",
              "      <td>3189</td>\n",
              "      <td>2571</td>\n",
              "      <td>24538</td>\n",
              "      <td>18133</td>\n",
              "    </tr>\n",
              "    <tr>\n",
              "      <th>C73-C75</th>\n",
              "      <td>0</td>\n",
              "      <td>0</td>\n",
              "      <td>0</td>\n",
              "      <td>0</td>\n",
              "      <td>0</td>\n",
              "      <td>0</td>\n",
              "      <td>0</td>\n",
              "      <td>0</td>\n",
              "    </tr>\n",
              "    <tr>\n",
              "      <th>C76-C80</th>\n",
              "      <td>0</td>\n",
              "      <td>0</td>\n",
              "      <td>0</td>\n",
              "      <td>0</td>\n",
              "      <td>0</td>\n",
              "      <td>0</td>\n",
              "      <td>0</td>\n",
              "      <td>0</td>\n",
              "    </tr>\n",
              "    <tr>\n",
              "      <th>C81-C96</th>\n",
              "      <td>201412</td>\n",
              "      <td>75614</td>\n",
              "      <td>18304</td>\n",
              "      <td>8182</td>\n",
              "      <td>16185</td>\n",
              "      <td>9395</td>\n",
              "      <td>166923</td>\n",
              "      <td>58037</td>\n",
              "    </tr>\n",
              "  </tbody>\n",
              "</table>\n",
              "</div>"
            ],
            "text/plain": [
              "        North America              Canada  ...    Mexico       USA          \n",
              "            Incidence Mortality Incidence  ... Mortality Incidence Mortality\n",
              "C00-C14         54401     12619      5338  ...      1142     46310      9905\n",
              "C15-C26        362254    195184     39868  ...     27177    284875    146918\n",
              "C30-C39        275607    171556     26561  ...      7758    240429    142058\n",
              "C40-C41             0         0         0  ...         0         0         0\n",
              "C43-C44             0         0         0  ...         0         0         0\n",
              "C45-C49          1739       235        58  ...       136      1078        92\n",
              "C50-C50             0         0         0  ...         0         0         0\n",
              "C51-C58        131737     44651     11045  ...      8609    100549     31939\n",
              "C60-C63        280178     45809     31180  ...      8127    218919     32888\n",
              "C64-C68        176262     42248     16729  ...      4422    150186     32719\n",
              "C69-C72         30711     23257      2984  ...      2571     24538     18133\n",
              "C73-C75             0         0         0  ...         0         0         0\n",
              "C76-C80             0         0         0  ...         0         0         0\n",
              "C81-C96        201412     75614     18304  ...      9395    166923     58037\n",
              "\n",
              "[14 rows x 8 columns]"
            ]
          },
          "metadata": {
            "tags": []
          },
          "execution_count": 6
        }
      ]
    },
    {
      "cell_type": "markdown",
      "metadata": {
        "id": "pcYJY-rjmAuB"
      },
      "source": [
        "# **Task 2**. \n",
        "\n",
        "Your second task is to generate a scatter plot of the data with the intent of\n",
        "identifying any insights that might arise from this visualization.\n",
        "\n",
        "**Deliverable 2**. The scatter plot should have the following characteristics:\n",
        "\n",
        "● The X-axis should show the cancer incidence.\n",
        "\n",
        "● The Y-axis should show the cancer mortality.\n",
        "\n",
        "● Each observation (dot or bubble) in the scatter plot should be one cancer category\n",
        "(e.g. COO-C14)\n",
        "\n",
        "● The color of the bubble should represent the country of the observation (four colors\n",
        "total to include the region overall numbers)\n",
        "\n",
        "● The size of the bubble should represent the relative numbers. Larger numbers\n",
        "should have a larger bubble, and smaller numbers should have smaller bubbles.\n",
        "\n",
        "**Additional considerations**. When developing this project, you should be thinking about\n",
        "which are the interesting points of the scatter-plot? Are there any outliers in the data? Can\n",
        "we identify any insights to be drawn from the data?"
      ]
    },
    {
      "cell_type": "code",
      "metadata": {
        "id": "i_JsAkzDNfZE"
      },
      "source": [
        "def plot_region(df):\n",
        "  \"\"\"Creates the plot of a DataFrame with the characteristics of the one created\n",
        "  by df_of_region and add_to_main functions\n",
        "  \"\"\"\n",
        "\n",
        "  #Variables that indicate the size of the dots (in realation with the ICD indices)\n",
        "  #and countries assigned to each color\n",
        "  size_of_dot = np.arange(10,df.index.size*20+10,20)*10\n",
        "  a = df.columns.get_level_values(0)\n",
        "  _, idx = np.unique(a, return_index=True)\n",
        "  countries = a[np.sort(idx)]\n",
        "  \n",
        "  #Plots all the countries information as displayed\n",
        "  for frame in [df[countries[0]], df[countries[1]], df[countries[2]], df[countries[3]]]:\n",
        "    plt.scatter(frame[\"Incidence\"], frame[\"Mortality\"], s=size_of_dot, alpha=0.4)  \n",
        "  plt.title(\"Statistics in North America\")\n",
        "  plt.xlabel(\"Incidence\")\n",
        "  plt.ylabel(\"Mortality\")\n",
        "  plt.rcParams[\"figure.figsize\"] = (15,5)\n",
        "  plt.legend(countries)\n",
        "  plt.show()\n",
        "\n",
        "  #Plots the same information with a limit of 50,000 by 50,000 and without the\n",
        "  #rows with value 0 for clarity\n",
        "  short_df = df[(df.T != 0).any()]\n",
        "  size_of_dot = np.arange(10,short_df.index.size*20+10,20)*10\n",
        "  fig = plt.figure()\n",
        "  for frame in [short_df[countries[0]], short_df[countries[1]], short_df[countries[2]], short_df[countries[3]]]:\n",
        "    plt.scatter(frame[\"Incidence\"], frame[\"Mortality\"], s=size_of_dot, alpha=0.4) \n",
        "  plt.title(\"Limited to 50,000\") \n",
        "  plt.xlabel('Incidence')\n",
        "  plt.ylabel('Mortality')\n",
        "  plt.rcParams[\"figure.figsize\"] = (15,5)\n",
        "  plt.legend(countries)\n",
        "  plt.xlim(0,50000)\n",
        "  plt.ylim(0,50000)\n",
        "  plt.show()"
      ],
      "execution_count": 7,
      "outputs": []
    },
    {
      "cell_type": "code",
      "metadata": {
        "colab": {
          "base_uri": "https://localhost:8080/",
          "height": 683
        },
        "id": "yzMoH6V6nM4F",
        "outputId": "9e69831d-8b87-43af-a415-dfe66b129974"
      },
      "source": [
        "plot_region(df_res)"
      ],
      "execution_count": 9,
      "outputs": [
        {
          "output_type": "display_data",
          "data": {
            "image/png": "[encoded data removed]",
            "text/plain": [
              "<Figure size 1080x360 with 1 Axes>"
            ]
          },
          "metadata": {
            "tags": [],
            "needs_background": "light"
          }
        },
        {
          "output_type": "display_data",
          "data": {
            "image/png": "[encoded data removed]",
            "text/plain": [
              "<Figure size 1080x360 with 1 Axes>"
            ]
          },
          "metadata": {
            "tags": [],
            "needs_background": "light"
          }
        }
      ]
    },
    {
      "cell_type": "markdown",
      "metadata": {
        "id": "njtMHhoUv_5y"
      },
      "source": [
        "# Conclusions from observing the data"
      ]
    },
    {
      "cell_type": "markdown",
      "metadata": {
        "id": "qPdUX8guHMkI"
      },
      "source": [
        "**Which are the interesting points of the scatter-plot?**\n",
        "\n",
        "The first observation I can make while observing the graph is that regsrdless of the cancer classification, they all have a similar incidence-mortality satio\n",
        "\n",
        "The points representing USA's cases are more spread, meaning that most registered cases in the region belong there which could tell us that just by observing the graph of the region, (North America) our conclusions might not reflect the situation of the other countries like Mexico (the one with least cases registered).\n",
        "\n"
      ]
    },
    {
      "cell_type": "markdown",
      "metadata": {
        "id": "8939EOzrJ6ck"
      },
      "source": [
        "**Are there any outliers in the data?**\n",
        "\n",
        "Because of the ICD classification we can see that the data lacks information on several types of cancer included in the following classifications: C40-C44, C50, C73-C80. This and the fact that the general information of the region and the USA registered cases make the graph convoluted while approaching (0,0) but since there seems to be a linear tendency, there are no obvious outliers."
      ]
    },
    {
      "cell_type": "markdown",
      "metadata": {
        "id": "PYLoOMpNJ_FD"
      },
      "source": [
        "**Can we identify any insights to be drawn from the data?**\n",
        "\n",
        "The graph shows a linear tendency between the incidence and the mortality, regardless of the tyes of cancer the points represent, but considering the difference of cases between the countries, and the lack of information for certain types of cancer, these conclusions might only work for the region as a and whole to a certain point"
      ]
    },
    {
      "cell_type": "code",
      "metadata": {
        "id": "fw0IgpDiXvxK"
      },
      "source": [
        ""
      ],
      "execution_count": 8,
      "outputs": []
    }
  ]
}